{
 "cells": [
  {
   "cell_type": "code",
   "execution_count": 3,
   "outputs": [],
   "source": [
    "import random\n",
    "import math\n",
    "import numpy\n",
    "import copy\n",
    "\n",
    "# super parameters\n",
    "actual_theta = [0.7, 0.5, 0.4]\n",
    "N = 5000\n",
    "trial_times = 200\n",
    "arms_part1 = [1, 2, 3]\n",
    "# arms_part2=[1,2]\n",
    "\n",
    "GREEDY_epsilon = [0.1, 0.5, 0.9]\n",
    "UCB_c = [1, 5, 10]\n",
    "TS_ab = [[[1, 1], [1, 1], [1, 1]],\n",
    "         [[601, 401], [401, 601], [2, 3]]]\n",
    "\n",
    "\n",
    "def reward_part1(choose):\n",
    "    # choose: 1,2,3\n",
    "    probability = actual_theta[choose - 1]\n",
    "    if (random.uniform(0, 1) < probability):\n",
    "        return 1\n",
    "    else:\n",
    "        return 0\n",
    "\n",
    "\n",
    "def e_Greedy(N, arms, epsilon):\n",
    "    # initialize\n",
    "    # Notice we set index start from 1\n",
    "    theta = [0 for i in range(len(arms) + 1)]\n",
    "    count = [0 for i in range(len(arms) + 1)]\n",
    "    I_t = -1\n",
    "\n",
    "    for t in range(1, N + 1):\n",
    "        if random.uniform(0, 1) < epsilon:\n",
    "            I_t = arms[random.randint(0, len(arms) - 1)]\n",
    "        else:\n",
    "            I_t = 1\n",
    "            for i in arms:\n",
    "                if theta[i] > theta[I_t]:\n",
    "                    I_t = i\n",
    "\n",
    "        count[I_t] += 1\n",
    "        theta[I_t] += (1 / count[I_t]) * (reward_part1(I_t) - theta[I_t])\n",
    "    return theta[1:]\n",
    "\n",
    "\n",
    "def Ucb(N, arms, c):\n",
    "    # note the index start from 1\n",
    "    I_t = -1\n",
    "    count = [0 for i in range(len(arms) + 1)]\n",
    "    theta = [0 for i in range(len(arms) + 1)]\n",
    "\n",
    "    # initialize\n",
    "    for t in arms:\n",
    "        I_t = t\n",
    "        count[I_t] = 1\n",
    "        theta[I_t] = reward_part1(I_t)\n",
    "\n",
    "    for t in range(4, N + 1):\n",
    "        # select and pull arm\n",
    "\n",
    "        I_t = 1\n",
    "        arg_max = 0\n",
    "        for j in arms:\n",
    "            arg = theta[j] + c * math.sqrt(2 * math.log(t) / count[j])\n",
    "            if arg > arg_max:\n",
    "                I_t = j\n",
    "                arg_max = arg\n",
    "        count[I_t] += 1\n",
    "        theta[I_t] += (reward_part1(I_t) - theta[I_t]) / count[I_t]\n",
    "    return theta[1:]\n",
    "\n",
    "\n",
    "def TS(N, arms, ab_original):\n",
    "    ab = copy.deepcopy(ab_original)\n",
    "    theta = [0 for i in range(len(arms) + 1)]\n",
    "    for t in range(1, N + 1):\n",
    "        # sample model\n",
    "        for j in arms:\n",
    "            theta[j] = numpy.random.beta(ab[j - 1][0], ab[j - 1][1])\n",
    "\n",
    "        # select and pull arm\n",
    "        I_t = -1\n",
    "        arg_max = -1\n",
    "        for j in arms:\n",
    "            if theta[j] > arg_max:\n",
    "                I_t = j\n",
    "                arg_max = theta[j]\n",
    "\n",
    "        # update distribution\n",
    "        r = reward_part1(I_t)\n",
    "        ab[I_t - 1][0] += r\n",
    "        ab[I_t - 1][1] += (1 - r)\n",
    "    # compute the expectation!!\n",
    "    result = []\n",
    "    for j in arms:\n",
    "        result.append(ab[j - 1][0] / (ab[j - 1][0] + ab[j - 1][1]))\n",
    "    return result\n",
    "\n",
    "\n",
    "def result_part1(function_idx):\n",
    "    function = ['epsilon-greedy', 'UCB', 'TS']\n",
    "    print(\"results for\", function[function_idx - 1], \"Algorithm:\")\n",
    "    para = []\n",
    "    func = None\n",
    "    if function_idx == 1:\n",
    "        para = GREEDY_epsilon\n",
    "        func = e_Greedy\n",
    "    elif function_idx == 2:\n",
    "        para = UCB_c\n",
    "        func = Ucb\n",
    "    elif function_idx == 3:\n",
    "        para = TS_ab\n",
    "        func = TS\n",
    "\n",
    "    for p in para:\n",
    "        result = numpy.array([0.0, 0.0, 0.0])\n",
    "        for trial in range(trial_times):\n",
    "            result += numpy.array(func(N, arms_part1, p))\n",
    "        result /= trial_times\n",
    "        print(result, \"with parameter:\", p)"
   ],
   "metadata": {
    "collapsed": false,
    "pycharm": {
     "name": "#%%\n"
    }
   }
  },
  {
   "cell_type": "code",
   "execution_count": 4,
   "outputs": [
    {
     "name": "stdout",
     "output_type": "stream",
     "text": [
      "results for epsilon-greedy Algorithm:\n",
      "[0.6997477  0.50586367 0.39581858] with parameter: 0.1\n",
      "[0.70064756 0.49850835 0.40057539] with parameter: 0.5\n",
      "[0.69888702 0.50006776 0.40146029] with parameter: 0.9\n"
     ]
    }
   ],
   "source": [
    "result_part1(1)"
   ],
   "metadata": {
    "collapsed": false,
    "pycharm": {
     "name": "#%%\n"
    }
   }
  },
  {
   "cell_type": "code",
   "execution_count": 5,
   "outputs": [
    {
     "name": "stdout",
     "output_type": "stream",
     "text": [
      "results for UCB Algorithm:\n",
      "[0.70031284 0.49018176 0.39345882] with parameter: 1\n",
      "[0.69984801 0.49936004 0.39937916] with parameter: 5\n",
      "[0.69948895 0.49925905 0.3982392 ] with parameter: 10\n"
     ]
    }
   ],
   "source": [
    "result_part1(2)"
   ],
   "metadata": {
    "collapsed": false,
    "pycharm": {
     "name": "#%%\n"
    }
   }
  },
  {
   "cell_type": "code",
   "execution_count": 6,
   "outputs": [
    {
     "name": "stdout",
     "output_type": "stream",
     "text": [
      "results for TS Algorithm:\n",
      "[0.7004135  0.45397345 0.3624778 ] with parameter: [[1, 1], [1, 1], [1, 1]]\n",
      "[0.6827074  0.4001996  0.36806762] with parameter: [[601, 401], [401, 601], [2, 3]]\n"
     ]
    }
   ],
   "source": [
    "result_part1(3)"
   ],
   "metadata": {
    "collapsed": false,
    "pycharm": {
     "name": "#%%\n"
    }
   }
  },
  {
   "cell_type": "code",
   "execution_count": null,
   "outputs": [],
   "source": [],
   "metadata": {
    "collapsed": false,
    "pycharm": {
     "name": "#%%\n"
    }
   }
  }
 ],
 "metadata": {
  "kernelspec": {
   "display_name": "Python 3",
   "language": "python",
   "name": "python3"
  },
  "language_info": {
   "codemirror_mode": {
    "name": "ipython",
    "version": 2
   },
   "file_extension": ".py",
   "mimetype": "text/x-python",
   "name": "python",
   "nbconvert_exporter": "python",
   "pygments_lexer": "ipython2",
   "version": "2.7.6"
  }
 },
 "nbformat": 4,
 "nbformat_minor": 0
}