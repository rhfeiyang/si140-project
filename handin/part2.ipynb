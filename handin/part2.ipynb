{
 "cells": [
  {
   "cell_type": "code",
   "execution_count": 1,
   "id": "4695fda6",
   "metadata": {},
   "outputs": [],
   "source": [
    "import random\n",
    "import numpy as np\n",
    "import matplotlib.pyplot as plt\n",
    "import cython.parallel as parallel"
   ]
  },
  {
   "cell_type": "code",
   "execution_count": 2,
   "id": "e699c547",
   "metadata": {},
   "outputs": [],
   "source": [
    "gamma=0.9\n",
    "actual_theta = [0.6, 1]\n",
    "N = 25\n",
    "arms = [1,2]\n",
    "actual_best = 2\n",
    "\n",
    "intuitive_regret = np.zeros(N)\n",
    "optimal_regret = np.zeros(N)\n",
    "\n",
    "test_round = 50\n",
    "# EstimatedReward1 = [[0 for i in range(test_round)] for j in range(test_round)]\n",
    "# EstimatedReward2 = [[0 for i in range(test_round)] for j in range(test_round)]\n",
    "R_result=[[[[-1 for j4 in range(test_round)] for j3 in range(test_round)] for j2 in range(test_round)] for j1 in range(test_round)]\n",
    "R_choose=[[[[-1 for j4 in range(test_round)] for j3 in range(test_round)] for j2 in range(test_round)] for j1 in range(test_round)]"
   ]
  },
  {
   "cell_type": "code",
   "execution_count": 3,
   "id": "92b040b3",
   "metadata": {},
   "outputs": [],
   "source": [
    "def reward_part2(choose,time):\n",
    "    # choose: 0,1\n",
    "    probability = actual_theta[choose]\n",
    "    if (random.uniform(0, 1) < probability):\n",
    "        return gamma**time\n",
    "    else:\n",
    "        return 0"
   ]
  },
  {
   "cell_type": "code",
   "execution_count": 4,
   "id": "fa1c603b",
   "metadata": {},
   "outputs": [],
   "source": [
    "def R(a1, b1, a2, b2):\n",
    "    if(a1>=test_round or a2>=test_round or b1 >= test_round or b2>=test_round):\n",
    "        return 0\n",
    "    if R_result[a1][b1][a2][b2]!=-1:\n",
    "        return R_result[a1][b1][a2][b2]\n",
    "    else:\n",
    "        r = np.array([R1(a1,b1,a2,b2),R2(a1,b1,a2,b2)])\n",
    "        # print(r)\n",
    "        if r[0]==r[1]:\n",
    "            R_choose[a1][b1][a2][b2]=0\n",
    "        else:\n",
    "            R_choose[a1][b1][a2][b2]=np.argmax(r)+1\n",
    "            # print(np.argmax(r)+1)\n",
    "        # if a1<3 and a2<3 and b1<3 and b2<3:\n",
    "        #     print(a1,b1,a2,b2,r,\"choose\",str(R_choose[a1][b1][a2][b2]))\n",
    "        R_result[a1][b1][a2][b2]=max(r)\n",
    "        # print(a1,b1,a2,b2,R_result[a1][b1][a2][b2])\n",
    "        return R_result[a1][b1][a2][b2]\n",
    "\n",
    "def R1(a1, b1, a2, b2):\n",
    "    c=a1/(a1+b1)\n",
    "    return c*(1+gamma*R(a1+1,b1,a2,b2))+(1-c)*(gamma*R(a1,b1+1,a2,b2))\n",
    "\n",
    "def R2(a1, b1, a2, b2):\n",
    "    c=a2/(a2+b2)\n",
    "    return c*(1+gamma*R(a1,b1,a2+1,b2))+(1-c)*(gamma*R(a1,b1,a2,b2+1))"
   ]
  },
  {
   "cell_type": "code",
   "execution_count": 5,
   "id": "2f36b704",
   "metadata": {},
   "outputs": [],
   "source": [
    "def Part2(N,arms):\n",
    "    #initialize:\n",
    "\n",
    "    # I_t = -1\n",
    "    #idx here all start from 0\n",
    "    count = [0 for i in range(len(arms))]\n",
    "    theta = [0.5 for i in range(len(arms))]\n",
    "    ab = [[1,1] for arm in arms]\n",
    "\n",
    "    total_reward = 0\n",
    "    \n",
    "    current_regret = np.zeros(N)\n",
    "\n",
    "    for t in range(N):\n",
    "        #choose and pull arm\n",
    "\n",
    "        if(theta[0]==theta[1]):\n",
    "            I_t=random.randint(0,1)\n",
    "        else:\n",
    "            I_t = np.argmax(theta)\n",
    "        if t==0:\n",
    "            current_regret[t] = actual_theta[actual_best-1] - actual_theta[I_t]\n",
    "        else:\n",
    "            current_regret[t] = current_regret[t-1] + actual_theta[actual_best-1] - actual_theta[I_t]\n",
    "        # print(I_t)\n",
    "        r = reward_part2(I_t,t)\n",
    "        total_reward+=r\n",
    "        count[I_t] +=1\n",
    "        if(r!= 0):\n",
    "            ab[I_t][0]+=1\n",
    "        else:\n",
    "            ab[I_t][1]+=1\n",
    "        #更新theta\n",
    "        theta = [float(a) / (a + b) for a, b in ab]\n",
    "    \n",
    "    global intuitive_regret\n",
    "    intuitive_regret += current_regret\n",
    "    return total_reward"
   ]
  },
  {
   "cell_type": "code",
   "execution_count": 6,
   "id": "c177852c",
   "metadata": {},
   "outputs": [],
   "source": [
    "def R_part2(N):\n",
    "    total_reward = 0.0\n",
    "    a = [1,1]\n",
    "    b = [1,1]\n",
    "    current_regret = np.zeros(N)\n",
    "    for n in range(N):\n",
    "        arm_choose = R_choose[a[0]][b[0]][a[1]][b[1]]\n",
    "        if arm_choose==0:\n",
    "            arm_choose=random.randint(1,2)\n",
    "        # print(arm_choose)\n",
    "        if n==0:\n",
    "            current_regret[n] = actual_theta[actual_best-1] - actual_theta[arm_choose-1]\n",
    "        else:\n",
    "            current_regret[n] = current_regret[n-1] + actual_theta[actual_best-1] - actual_theta[arm_choose-1]\n",
    "        r = reward_part2(arm_choose-1,n)\n",
    "        if(r != 0):\n",
    "            a[arm_choose-1] += 1\n",
    "        else:\n",
    "            b[arm_choose-1] += 1\n",
    "        total_reward += r\n",
    "    global optimal_regret\n",
    "    optimal_regret += current_regret\n",
    "    return total_reward"
   ]
  },
  {
   "cell_type": "code",
   "execution_count": 7,
   "id": "2390cb27",
   "metadata": {},
   "outputs": [],
   "source": [
    "R(1,1,1,1)\n",
    "result1 = 0\n",
    "result2 = 0\n",
    "times=2000"
   ]
  },
  {
   "cell_type": "code",
   "execution_count": 8,
   "id": "42028123",
   "metadata": {},
   "outputs": [
    {
     "name": "stdout",
     "output_type": "stream",
     "text": [
      "actual theta [0.7, 0.3]\n",
      "5.680129113917301\n"
     ]
    }
   ],
   "source": [
    "actual_theta = [0.7, 0.3]\n",
    "result1 = 0\n",
    "result2 = 0\n",
    "times=2000\n",
    "intuitive_regret = np.zeros(N)\n",
    "optimal_regret = np.zeros(N)\n",
    "for n in parallel.prange(times):\n",
    "    result1 += Part2(N,arms)\n",
    "print(\"actual theta\",actual_theta)\n",
    "print(result1/times)"
   ]
  },
  {
   "cell_type": "code",
   "execution_count": 9,
   "id": "40c284da",
   "metadata": {},
   "outputs": [
    {
     "name": "stdout",
     "output_type": "stream",
     "text": [
      "actual theta [0.4, 0.5]\n",
      "4.2786276182150695\n"
     ]
    }
   ],
   "source": [
    "actual_theta = [0.4, 0.5]\n",
    "result1 = 0\n",
    "result2 = 0\n",
    "times=2000\n",
    "intuitive_regret = np.zeros(N)\n",
    "optimal_regret = np.zeros(N)\n",
    "for n in parallel.prange(times):\n",
    "    result1 += Part2(N,arms)\n",
    "print(\"actual theta\",actual_theta)\n",
    "print(result1/times)"
   ]
  },
  {
   "cell_type": "code",
   "execution_count": 10,
   "id": "93d39ba1",
   "metadata": {},
   "outputs": [
    {
     "name": "stdout",
     "output_type": "stream",
     "text": [
      "actual theta [0.1, 0.3]\n",
      "2.2022375454704637\n"
     ]
    }
   ],
   "source": [
    "actual_theta = [0.1, 0.3]\n",
    "result1 = 0\n",
    "result2 = 0\n",
    "times=2000\n",
    "intuitive_regret = np.zeros(N)\n",
    "optimal_regret = np.zeros(N)\n",
    "for n in parallel.prange(times):\n",
    "    result1 += Part2(N,arms)\n",
    "print(\"actual theta\",actual_theta)\n",
    "print(result1/times)"
   ]
  },
  {
   "cell_type": "code",
   "execution_count": 11,
   "id": "476e0605",
   "metadata": {},
   "outputs": [
    {
     "name": "stdout",
     "output_type": "stream",
     "text": [
      "actual theta [0.6, 1]\n",
      "8.455791047263817\n",
      "8.67694143521603\n"
     ]
    },
    {
     "data": {
      "image/png": "[encoded data removed]",
      "text/plain": [
       "<Figure size 432x288 with 1 Axes>"
      ]
     },
     "metadata": {
      "needs_background": "light"
     },
     "output_type": "display_data"
    }
   ],
   "source": [
    "actual_theta = [0.6, 1]\n",
    "result1 = 0\n",
    "result2 = 0\n",
    "times=2000\n",
    "intuitive_regret = np.zeros(N)\n",
    "optimal_regret = np.zeros(N)\n",
    "for n in parallel.prange(times):\n",
    "    result1 += Part2(N,arms)\n",
    "\n",
    "    r2=R_part2(N)\n",
    "    result2 += r2\n",
    "    # print(r2)\n",
    "print(\"actual theta\",actual_theta)\n",
    "print(result1/times)\n",
    "print(result2/times)\n",
    "\n",
    "optimal_regret /= times\n",
    "intuitive_regret /= times\n",
    "\n",
    "spacing = 1\n",
    "plt.plot(range(0, 25)[::spacing], intuitive_regret[::spacing], label='intuitive', color='black', marker='x')\n",
    "plt.plot(range(0, 25)[::spacing], optimal_regret[::spacing], label='optimal', color='red', marker='+')\n",
    "plt.legend()\n",
    "plt.grid(True, axis='y')\n",
    "plt.xlabel('Number of Rounds')\n",
    "plt.ylabel('Average Regret')\n",
    "plt.show()"
   ]
  },
  {
   "cell_type": "code",
   "execution_count": 18,
   "id": "ffdb472c",
   "metadata": {
    "scrolled": true
   },
   "outputs": [
    {
     "name": "stdout",
     "output_type": "stream",
     "text": [
      "actual theta [0.2, 0.3]\n",
      "2.4073668815620364\n",
      "2.4011083534182918\n"
     ]
    },
    {
     "data": {
      "image/png": "[encoded data removed]",
      "text/plain": [
       "<Figure size 432x288 with 1 Axes>"
      ]
     },
     "metadata": {
      "needs_background": "light"
     },
     "output_type": "display_data"
    }
   ],
   "source": [
    "actual_theta = [0.2, 0.3]\n",
    "result1 = 0\n",
    "result2 = 0\n",
    "times=2000\n",
    "intuitive_regret = np.zeros(N)\n",
    "optimal_regret = np.zeros(N)\n",
    "for n in parallel.prange(times):\n",
    "    result1 += Part2(N,arms)\n",
    "\n",
    "    r2=R_part2(N)\n",
    "    result2 += r2\n",
    "    # print(r2)\n",
    "print(\"actual theta\",actual_theta)\n",
    "print(result1/times)\n",
    "print(result2/times)\n",
    "\n",
    "optimal_regret /= times\n",
    "intuitive_regret /= times\n",
    "\n",
    "spacing = 1\n",
    "plt.plot(range(0, 25)[::spacing], intuitive_regret[::spacing], label='intuitive', color='black', marker='x')\n",
    "plt.plot(range(0, 25)[::spacing], optimal_regret[::spacing], label='optimal', color='red', marker='+')\n",
    "plt.legend()\n",
    "plt.grid(True, axis='y')\n",
    "plt.xlabel('Number of Rounds')\n",
    "plt.ylabel('Average Regret')\n",
    "plt.show()"
   ]
  },
  {
   "cell_type": "code",
   "execution_count": 19,
   "id": "6724ceeb",
   "metadata": {},
   "outputs": [
    {
     "name": "stdout",
     "output_type": "stream",
     "text": [
      "actual theta [0.3, 0.8]\n",
      "6.669944820446975\n",
      "6.757352981084426\n"
     ]
    },
    {
     "data": {
      "image/png": "[encoded data removed]",
      "text/plain": [
       "<Figure size 432x288 with 1 Axes>"
      ]
     },
     "metadata": {
      "needs_background": "light"
     },
     "output_type": "display_data"
    }
   ],
   "source": [
    "actual_theta = [0.3, 0.8]\n",
    "result1 = 0\n",
    "result2 = 0\n",
    "times=2000\n",
    "intuitive_regret = np.zeros(N)\n",
    "optimal_regret = np.zeros(N)\n",
    "for n in parallel.prange(times):\n",
    "    result1 += Part2(N,arms)\n",
    "\n",
    "    r2=R_part2(N)\n",
    "    result2 += r2\n",
    "    # print(r2)\n",
    "print(\"actual theta\",actual_theta)\n",
    "print(result1/times)\n",
    "print(result2/times)\n",
    "\n",
    "optimal_regret /= times\n",
    "intuitive_regret /= times\n",
    "\n",
    "spacing = 1\n",
    "plt.plot(range(0, 25)[::spacing], intuitive_regret[::spacing], label='intuitive', color='black', marker='x')\n",
    "plt.plot(range(0, 25)[::spacing], optimal_regret[::spacing], label='optimal', color='red', marker='+')\n",
    "plt.legend()\n",
    "plt.grid(True, axis='y')\n",
    "plt.xlabel('Number of Rounds')\n",
    "plt.ylabel('Average Regret')\n",
    "plt.show()"
   ]
  },
  {
   "cell_type": "code",
   "execution_count": 20,
   "id": "26bc54a7",
   "metadata": {},
   "outputs": [
    {
     "name": "stdout",
     "output_type": "stream",
     "text": [
      "actual theta [0.8, 0.9]\n",
      "7.904243261770729\n",
      "7.990264464020938\n"
     ]
    },
    {
     "data": {
      "image/png": "[encoded data removed]",
      "text/plain": [
       "<Figure size 432x288 with 1 Axes>"
      ]
     },
     "metadata": {
      "needs_background": "light"
     },
     "output_type": "display_data"
    }
   ],
   "source": [
    "actual_theta = [0.8, 0.9]\n",
    "result1 = 0\n",
    "result2 = 0\n",
    "times=2000\n",
    "intuitive_regret = np.zeros(N)\n",
    "optimal_regret = np.zeros(N)\n",
    "for n in parallel.prange(times):\n",
    "    result1 += Part2(N,arms)\n",
    "\n",
    "    r2=R_part2(N)\n",
    "    result2 += r2\n",
    "    # print(r2)\n",
    "print(\"actual theta\",actual_theta)\n",
    "print(result1/times)\n",
    "print(result2/times)\n",
    "\n",
    "optimal_regret /= times\n",
    "intuitive_regret /= times\n",
    "\n",
    "spacing = 1\n",
    "plt.plot(range(0, 25)[::spacing], intuitive_regret[::spacing], label='intuitive', color='black', marker='x')\n",
    "plt.plot(range(0, 25)[::spacing], optimal_regret[::spacing], label='optimal', color='red', marker='+')\n",
    "plt.legend()\n",
    "plt.grid(True, axis='y')\n",
    "plt.xlabel('Number of Rounds')\n",
    "plt.ylabel('Average Regret')\n",
    "plt.show()"
   ]
  },
  {
   "cell_type": "code",
   "execution_count": null,
   "id": "e4eb0e8f",
   "metadata": {},
   "outputs": [],
   "source": []
  }
 ],
 "metadata": {
  "kernelspec": {
   "display_name": "Python 3 (ipykernel)",
   "language": "python",
   "name": "python3"
  },
  "language_info": {
   "codemirror_mode": {
    "name": "ipython",
    "version": 3
   },
   "file_extension": ".py",
   "mimetype": "text/x-python",
   "name": "python",
   "nbconvert_exporter": "python",
   "pygments_lexer": "ipython3",
   "version": "3.9.7"
  }
 },
 "nbformat": 4,
 "nbformat_minor": 5
}
